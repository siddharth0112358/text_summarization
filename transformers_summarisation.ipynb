{
 "cells": [
  {
   "cell_type": "markdown",
   "metadata": {},
   "source": [
    "https://towardsdatascience.com/simple-abstractive-text-summarization-with-pretrained-t5-text-to-text-transfer-transformer-10f6d602c426"
   ]
  },
  {
   "cell_type": "code",
   "execution_count": 1,
   "metadata": {
    "scrolled": true
   },
   "outputs": [
    {
     "name": "stdout",
     "output_type": "stream",
     "text": [
      "Collecting transformers==2.8.0\n",
      "  Downloading transformers-2.8.0-py3-none-any.whl (563 kB)\n",
      "\u001b[K     |████████████████████████████████| 563 kB 7.0 MB/s eta 0:00:01\n",
      "\u001b[?25hRequirement already satisfied: regex!=2019.12.17 in /Users/patsnap/anaconda2/lib/python3.7/site-packages (from transformers==2.8.0) (2017.9.23)\n",
      "Requirement already satisfied: boto3 in /Users/patsnap/anaconda2/lib/python3.7/site-packages (from transformers==2.8.0) (1.12.31)\n",
      "Requirement already satisfied: sacremoses in /Users/patsnap/anaconda2/lib/python3.7/site-packages (from transformers==2.8.0) (0.0.38)\n",
      "Requirement already satisfied: filelock in /Users/patsnap/anaconda2/lib/python3.7/site-packages (from transformers==2.8.0) (3.0.12)\n",
      "Requirement already satisfied: requests in /Users/patsnap/anaconda2/lib/python3.7/site-packages (from transformers==2.8.0) (2.22.0)\n",
      "Requirement already satisfied: numpy in /Users/patsnap/anaconda2/lib/python3.7/site-packages (from transformers==2.8.0) (1.18.5)\n",
      "Collecting tokenizers==0.5.2\n",
      "  Downloading tokenizers-0.5.2-cp37-cp37m-macosx_10_15_x86_64.whl (1.1 MB)\n",
      "\u001b[K     |████████████████████████████████| 1.1 MB 18.1 MB/s eta 0:00:01\n",
      "\u001b[?25hRequirement already satisfied: tqdm>=4.27 in /Users/patsnap/anaconda2/lib/python3.7/site-packages (from transformers==2.8.0) (4.41.1)\n",
      "Requirement already satisfied: sentencepiece in /Users/patsnap/anaconda2/lib/python3.7/site-packages (from transformers==2.8.0) (0.1.85)\n",
      "Requirement already satisfied: jmespath<1.0.0,>=0.7.1 in /Users/patsnap/anaconda2/lib/python3.7/site-packages (from boto3->transformers==2.8.0) (0.9.5)\n",
      "Requirement already satisfied: s3transfer<0.4.0,>=0.3.0 in /Users/patsnap/anaconda2/lib/python3.7/site-packages (from boto3->transformers==2.8.0) (0.3.3)\n",
      "Collecting botocore<1.16.0,>=1.15.31\n",
      "  Using cached botocore-1.15.49-py2.py3-none-any.whl (6.2 MB)\n",
      "Requirement already satisfied: six in /Users/patsnap/.local/lib/python3.7/site-packages (from sacremoses->transformers==2.8.0) (1.14.0)\n",
      "Requirement already satisfied: joblib in /Users/patsnap/anaconda2/lib/python3.7/site-packages (from sacremoses->transformers==2.8.0) (0.14.0)\n",
      "Requirement already satisfied: click in /Users/patsnap/anaconda2/lib/python3.7/site-packages (from sacremoses->transformers==2.8.0) (7.0)\n",
      "Requirement already satisfied: urllib3!=1.25.0,!=1.25.1,<1.26,>=1.21.1 in /Users/patsnap/anaconda2/lib/python3.7/site-packages (from requests->transformers==2.8.0) (1.24.2)\n",
      "Requirement already satisfied: certifi>=2017.4.17 in /Users/patsnap/anaconda2/lib/python3.7/site-packages (from requests->transformers==2.8.0) (2019.9.11)\n",
      "Requirement already satisfied: idna<2.9,>=2.5 in /Users/patsnap/anaconda2/lib/python3.7/site-packages (from requests->transformers==2.8.0) (2.8)\n",
      "Requirement already satisfied: chardet<3.1.0,>=3.0.2 in /Users/patsnap/anaconda2/lib/python3.7/site-packages (from requests->transformers==2.8.0) (3.0.4)\n",
      "Requirement already satisfied: docutils<0.16,>=0.10 in /Users/patsnap/anaconda2/lib/python3.7/site-packages (from botocore<1.16.0,>=1.15.31->boto3->transformers==2.8.0) (0.15.2)\n",
      "Requirement already satisfied: python-dateutil<3.0.0,>=2.1 in /Users/patsnap/anaconda2/lib/python3.7/site-packages (from botocore<1.16.0,>=1.15.31->boto3->transformers==2.8.0) (2.8.1)\n",
      "\u001b[31mERROR: spacy-transformers 0.5.1 has requirement spacy<2.3.0,>=2.2.1, but you'll have spacy 2.3.1 which is incompatible.\u001b[0m\n",
      "\u001b[31mERROR: spacy-transformers 0.5.1 has requirement transformers<2.1.0,>=2.0.0, but you'll have transformers 2.8.0 which is incompatible.\u001b[0m\n",
      "\u001b[31mERROR: medacy 0.2.0 has requirement scispacy==0.2.2, but you'll have scispacy 0.2.5 which is incompatible.\u001b[0m\n",
      "\u001b[31mERROR: medacy 0.2.0 has requirement spacy==2.2.0, but you'll have spacy 2.3.1 which is incompatible.\u001b[0m\n",
      "\u001b[31mERROR: medacy 0.2.0 has requirement torch==1.2.0, but you'll have torch 1.4.0 which is incompatible.\u001b[0m\n",
      "\u001b[31mERROR: medacy 0.2.0 has requirement transformers==2.3.0, but you'll have transformers 2.8.0 which is incompatible.\u001b[0m\n",
      "\u001b[31mERROR: farm 0.4.2 has requirement transformers==2.7.0, but you'll have transformers 2.8.0 which is incompatible.\u001b[0m\n",
      "\u001b[31mERROR: awscli 1.18.16 has requirement botocore==1.15.16, but you'll have botocore 1.15.49 which is incompatible.\u001b[0m\n",
      "Installing collected packages: tokenizers, transformers, botocore\n",
      "  Attempting uninstall: tokenizers\n",
      "    Found existing installation: tokenizers 0.7.0\n",
      "    Uninstalling tokenizers-0.7.0:\n",
      "      Successfully uninstalled tokenizers-0.7.0\n",
      "  Attempting uninstall: transformers\n",
      "    Found existing installation: transformers 2.11.0\n",
      "    Uninstalling transformers-2.11.0:\n",
      "      Successfully uninstalled transformers-2.11.0\n",
      "  Attempting uninstall: botocore\n",
      "    Found existing installation: botocore 1.15.16\n",
      "    Uninstalling botocore-1.15.16:\n",
      "      Successfully uninstalled botocore-1.15.16\n",
      "Successfully installed botocore-1.15.49 tokenizers-0.5.2 transformers-2.8.0\n",
      "Requirement already satisfied: torch==1.4.0 in /Users/patsnap/anaconda2/lib/python3.7/site-packages (1.4.0)\n"
     ]
    }
   ],
   "source": [
    "!pip install transformers==2.8.0\n",
    "!pip install torch==1.4.0"
   ]
  },
  {
   "cell_type": "code",
   "execution_count": 2,
   "metadata": {},
   "outputs": [],
   "source": [
    "import torch\n",
    "import json \n",
    "from transformers import T5Tokenizer, T5ForConditionalGeneration, T5Config"
   ]
  },
  {
   "cell_type": "code",
   "execution_count": 3,
   "metadata": {},
   "outputs": [
    {
     "data": {
      "application/vnd.jupyter.widget-view+json": {
       "model_id": "821b5a1a6bf64c1aa9e0891b2b26466a",
       "version_major": 2,
       "version_minor": 0
      },
      "text/plain": [
       "HBox(children=(FloatProgress(value=0.0, description='Downloading', max=1197.0, style=ProgressStyle(description…"
      ]
     },
     "metadata": {},
     "output_type": "display_data"
    },
    {
     "name": "stdout",
     "output_type": "stream",
     "text": [
      "\n"
     ]
    },
    {
     "data": {
      "application/vnd.jupyter.widget-view+json": {
       "model_id": "de41320b85ba452abd64f67112a362fa",
       "version_major": 2,
       "version_minor": 0
      },
      "text/plain": [
       "HBox(children=(FloatProgress(value=0.0, description='Downloading', max=242136741.0, style=ProgressStyle(descri…"
      ]
     },
     "metadata": {},
     "output_type": "display_data"
    },
    {
     "name": "stdout",
     "output_type": "stream",
     "text": [
      "\n"
     ]
    }
   ],
   "source": [
    "model = T5ForConditionalGeneration.from_pretrained('t5-small')\n",
    "tokenizer = T5Tokenizer.from_pretrained('t5-small')\n",
    "device = torch.device('cpu')"
   ]
  },
  {
   "cell_type": "code",
   "execution_count": 4,
   "metadata": {},
   "outputs": [],
   "source": [
    "text =\"\"\"\n",
    "The US has \"passed the peak\" on new coronavirus cases, President Donald Trump said and predicted that some states would reopen this month.\n",
    "The US has over 637,000 confirmed Covid-19 cases and over 30,826 deaths, the highest for any country in the world.\n",
    "At the daily White House coronavirus briefing on Wednesday, Trump said new guidelines to reopen the country would be announced on Thursday after he speaks to governors.\n",
    "\"We'll be the comeback kids, all of us,\" he said. \"We want to get our country back.\"\n",
    "The Trump administration has previously fixed May 1 as a possible date to reopen the world's largest economy, but the president said some states may be able to return to normalcy earlier than that.\n",
    "\"\"\"\n"
   ]
  },
  {
   "cell_type": "code",
   "execution_count": 5,
   "metadata": {},
   "outputs": [
    {
     "name": "stdout",
     "output_type": "stream",
     "text": [
      "original text preprocessed: \n",
      " The US has \"passed the peak\" on new coronavirus cases, President Donald Trump said and predicted that some states would reopen this month.The US has over 637,000 confirmed Covid-19 cases and over 30,826 deaths, the highest for any country in the world.At the daily White House coronavirus briefing on Wednesday, Trump said new guidelines to reopen the country would be announced on Thursday after he speaks to governors.\"We'll be the comeback kids, all of us,\" he said. \"We want to get our country back.\"The Trump administration has previously fixed May 1 as a possible date to reopen the world's largest economy, but the president said some states may be able to return to normalcy earlier than that.\n"
     ]
    }
   ],
   "source": [
    "preprocess_text = text.strip().replace(\"\\n\",\"\")\n",
    "t5_prepared_Text = \"summarize: \"+preprocess_text\n",
    "print(\"original text preprocessed: \\n\", preprocess_text)\n",
    "\n",
    "tokenized_text = tokenizer.encode(t5_prepared_Text, return_tensors=\"pt\").to(device)"
   ]
  },
  {
   "cell_type": "code",
   "execution_count": 6,
   "metadata": {},
   "outputs": [
    {
     "name": "stdout",
     "output_type": "stream",
     "text": [
      "\n",
      "\n",
      "Summarized text: \n",
      " the us has over 637,000 confirmed Covid-19 cases and over 30,826 deaths. president Donald Trump predicts some states will reopen the country in april, he said. \"we'll be the comeback kids, all of us,\" the president says.\n"
     ]
    }
   ],
   "source": [
    "# summmarize \n",
    "summary_ids = model.generate(tokenized_text,\n",
    "                                    num_beams=4,\n",
    "                                    no_repeat_ngram_size=2,\n",
    "                                    min_length=30,\n",
    "                                    max_length=100,\n",
    "                                    early_stopping=True)\n",
    "\n",
    "output = tokenizer.decode(summary_ids[0], skip_special_tokens=True)\n",
    "\n",
    "print (\"\\n\\nSummarized text: \\n\",output)"
   ]
  },
  {
   "cell_type": "code",
   "execution_count": null,
   "metadata": {},
   "outputs": [],
   "source": []
  },
  {
   "cell_type": "code",
   "execution_count": null,
   "metadata": {},
   "outputs": [],
   "source": []
  },
  {
   "cell_type": "code",
   "execution_count": null,
   "metadata": {},
   "outputs": [],
   "source": []
  },
  {
   "cell_type": "code",
   "execution_count": null,
   "metadata": {},
   "outputs": [],
   "source": []
  },
  {
   "cell_type": "code",
   "execution_count": null,
   "metadata": {},
   "outputs": [],
   "source": []
  },
  {
   "cell_type": "code",
   "execution_count": null,
   "metadata": {},
   "outputs": [],
   "source": []
  },
  {
   "cell_type": "code",
   "execution_count": null,
   "metadata": {},
   "outputs": [],
   "source": []
  },
  {
   "cell_type": "code",
   "execution_count": null,
   "metadata": {},
   "outputs": [],
   "source": []
  },
  {
   "cell_type": "code",
   "execution_count": null,
   "metadata": {},
   "outputs": [],
   "source": []
  },
  {
   "cell_type": "code",
   "execution_count": null,
   "metadata": {},
   "outputs": [],
   "source": []
  },
  {
   "cell_type": "code",
   "execution_count": null,
   "metadata": {},
   "outputs": [],
   "source": []
  },
  {
   "cell_type": "code",
   "execution_count": null,
   "metadata": {},
   "outputs": [],
   "source": []
  },
  {
   "cell_type": "code",
   "execution_count": null,
   "metadata": {},
   "outputs": [],
   "source": []
  },
  {
   "cell_type": "code",
   "execution_count": null,
   "metadata": {},
   "outputs": [],
   "source": []
  },
  {
   "cell_type": "code",
   "execution_count": null,
   "metadata": {},
   "outputs": [],
   "source": []
  }
 ],
 "metadata": {
  "kernelspec": {
   "display_name": "Python 3",
   "language": "python",
   "name": "python3"
  },
  "language_info": {
   "codemirror_mode": {
    "name": "ipython",
    "version": 3
   },
   "file_extension": ".py",
   "mimetype": "text/x-python",
   "name": "python",
   "nbconvert_exporter": "python",
   "pygments_lexer": "ipython3",
   "version": "3.7.5"
  }
 },
 "nbformat": 4,
 "nbformat_minor": 2
}
