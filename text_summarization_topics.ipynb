{
 "cells": [
  {
   "cell_type": "markdown",
   "metadata": {},
   "source": [
    "https://github.com/WuraolaOyewusi/Simple-Natural-Language-Processing-Projects-for-Health-Sciences/blob/master/Medication_Package_Insert_Summarization.ipynb"
   ]
  },
  {
   "cell_type": "code",
   "execution_count": 1,
   "metadata": {},
   "outputs": [
    {
     "name": "stdout",
     "output_type": "stream",
     "text": [
      "Warning: Failed to set locale category LC_NUMERIC to en_SG.\n",
      "Warning: Failed to set locale category LC_TIME to en_SG.\n",
      "Warning: Failed to set locale category LC_COLLATE to en_SG.\n",
      "Warning: Failed to set locale category LC_MONETARY to en_SG.\n",
      "Warning: Failed to set locale category LC_MESSAGES to en_SG.\n",
      "--2020-07-16 14:19:02--  https://au.gsk.com/media/217195/engerix-b_pi_006_approved.pdf\n",
      "Resolving au.gsk.com (au.gsk.com)... 52.203.226.84, 54.236.94.46, 35.175.81.208\n",
      "Connecting to au.gsk.com (au.gsk.com)|52.203.226.84|:443... connected.\n",
      "HTTP request sent, awaiting response... 200 OK\n",
      "Length: 142883 (140K) [application/pdf]\n",
      "Saving to: ‘engerix-b_pi_006_approved.pdf’\n",
      "\n",
      "engerix-b_pi_006_ap 100%[===================>] 139.53K   163KB/s    in 0.9s    \n",
      "\n",
      "2020-07-16 14:19:05 (163 KB/s) - ‘engerix-b_pi_006_approved.pdf’ saved [142883/142883]\n",
      "\n"
     ]
    }
   ],
   "source": [
    "!wget https://au.gsk.com/media/217195/engerix-b_pi_006_approved.pdf   # Download a sample medication insert"
   ]
  },
  {
   "cell_type": "code",
   "execution_count": 2,
   "metadata": {},
   "outputs": [
    {
     "name": "stdout",
     "output_type": "stream",
     "text": [
      "Requirement already satisfied: tika in /Users/patsnap/anaconda2/lib/python3.7/site-packages (1.24)\n",
      "Requirement already satisfied: requests in /Users/patsnap/anaconda2/lib/python3.7/site-packages (from tika) (2.22.0)\n",
      "Requirement already satisfied: setuptools in /Users/patsnap/.local/lib/python3.7/site-packages (from tika) (46.3.0)\n",
      "Requirement already satisfied: idna<2.9,>=2.5 in /Users/patsnap/anaconda2/lib/python3.7/site-packages (from requests->tika) (2.8)\n",
      "Requirement already satisfied: chardet<3.1.0,>=3.0.2 in /Users/patsnap/anaconda2/lib/python3.7/site-packages (from requests->tika) (3.0.4)\n",
      "Requirement already satisfied: urllib3!=1.25.0,!=1.25.1,<1.26,>=1.21.1 in /Users/patsnap/anaconda2/lib/python3.7/site-packages (from requests->tika) (1.24.2)\n",
      "Requirement already satisfied: certifi>=2017.4.17 in /Users/patsnap/anaconda2/lib/python3.7/site-packages (from requests->tika) (2019.9.11)\n"
     ]
    }
   ],
   "source": [
    "!pip install tika #Install Tika for Text extraction from pdf"
   ]
  },
  {
   "cell_type": "code",
   "execution_count": 3,
   "metadata": {},
   "outputs": [
    {
     "name": "stdout",
     "output_type": "stream",
     "text": [
      "Requirement already satisfied: sumy in /Users/patsnap/anaconda2/lib/python3.7/site-packages (0.8.1)\n",
      "Requirement already satisfied: docopt<0.7,>=0.6.1 in /Users/patsnap/anaconda2/lib/python3.7/site-packages (from sumy) (0.6.2)\n",
      "Requirement already satisfied: requests>=2.7.0 in /Users/patsnap/anaconda2/lib/python3.7/site-packages (from sumy) (2.22.0)\n",
      "Requirement already satisfied: nltk>=3.0.2 in /Users/patsnap/anaconda2/lib/python3.7/site-packages (from sumy) (3.4.5)\n",
      "Requirement already satisfied: pycountry>=18.2.23 in /Users/patsnap/anaconda2/lib/python3.7/site-packages (from sumy) (19.8.18)\n",
      "Requirement already satisfied: breadability>=0.1.20 in /Users/patsnap/anaconda2/lib/python3.7/site-packages (from sumy) (0.1.20)\n",
      "Requirement already satisfied: urllib3!=1.25.0,!=1.25.1,<1.26,>=1.21.1 in /Users/patsnap/anaconda2/lib/python3.7/site-packages (from requests>=2.7.0->sumy) (1.24.2)\n",
      "Requirement already satisfied: chardet<3.1.0,>=3.0.2 in /Users/patsnap/anaconda2/lib/python3.7/site-packages (from requests>=2.7.0->sumy) (3.0.4)\n",
      "Requirement already satisfied: idna<2.9,>=2.5 in /Users/patsnap/anaconda2/lib/python3.7/site-packages (from requests>=2.7.0->sumy) (2.8)\n",
      "Requirement already satisfied: certifi>=2017.4.17 in /Users/patsnap/anaconda2/lib/python3.7/site-packages (from requests>=2.7.0->sumy) (2019.9.11)\n",
      "Requirement already satisfied: six in /Users/patsnap/.local/lib/python3.7/site-packages (from nltk>=3.0.2->sumy) (1.14.0)\n",
      "Requirement already satisfied: lxml>=2.0 in /Users/patsnap/anaconda2/lib/python3.7/site-packages (from breadability>=0.1.20->sumy) (4.4.1)\n"
     ]
    }
   ],
   "source": [
    "!pip install sumy #Install sumy for text summarization"
   ]
  },
  {
   "cell_type": "code",
   "execution_count": 4,
   "metadata": {},
   "outputs": [
    {
     "name": "stderr",
     "output_type": "stream",
     "text": [
      "2020-07-16 14:20:08,317 [MainThread  ] [INFO ]  Retrieving http://search.maven.org/remotecontent?filepath=org/apache/tika/tika-server/1.24/tika-server-1.24.jar to /var/folders/07/ch803bln2x51cptcxk5bs3gr0000gn/T/tika-server.jar.\n",
      "2020-07-16 14:20:19,521 [MainThread  ] [INFO ]  Retrieving http://search.maven.org/remotecontent?filepath=org/apache/tika/tika-server/1.24/tika-server-1.24.jar.md5 to /var/folders/07/ch803bln2x51cptcxk5bs3gr0000gn/T/tika-server.jar.md5.\n",
      "2020-07-16 14:20:22,020 [MainThread  ] [WARNI]  Failed to see startup log message; retrying...\n"
     ]
    }
   ],
   "source": [
    "from tika import parser\n",
    "rawText = parser.from_file('engerix-b_pi_006_approved.pdf')\n",
    "rawList = rawText['content'].splitlines()"
   ]
  },
  {
   "cell_type": "code",
   "execution_count": 5,
   "metadata": {},
   "outputs": [],
   "source": [
    "rawList = [item for item in rawList if item.strip()]"
   ]
  },
  {
   "cell_type": "code",
   "execution_count": 6,
   "metadata": {},
   "outputs": [
    {
     "data": {
      "text/plain": [
       "674"
      ]
     },
     "execution_count": 6,
     "metadata": {},
     "output_type": "execute_result"
    }
   ],
   "source": [
    "len(rawList)"
   ]
  },
  {
   "cell_type": "code",
   "execution_count": 7,
   "metadata": {},
   "outputs": [],
   "source": [
    "rawList_str = ' '.join(rawList)    #convert from lists to string = ' '.join(rawList)    #convert from lists to string"
   ]
  },
  {
   "cell_type": "code",
   "execution_count": 8,
   "metadata": {},
   "outputs": [
    {
     "data": {
      "text/plain": [
       "\" 1  ENGERIX®-B PRODUCT INFORMATION  (Hepatitis B surface antigen (rys))  NAME OF THE MEDICINE  ENGERIX-B   Hepatitis B surface antigen recombinant (yeast) vaccine  DESCRIPTION  Suspension for injection.  10 µg dose vaccine  1 dose (0.5 ml) contains:  10 micrograms Hepatitis B surface antigen 1, 2   1Adsorbed on aluminium hydroxide, hydrated  Total: 0.25 milligrams Al3+  2Produced in yeast cells (Saccharomyces cerevisiae) by recombinant DNA technology  20µg dose vaccine  1 dose (1 ml) contains:  20 micrograms Hepatitis B surface antigen1, 2   1Adsorbed on aluminium hydroxide, hydrated Total: 0.50 milligrams Al3+  2Produced in yeast cells (Saccharomyces cerevisiae) by recombinant DNA technology  The final vaccines also contain sodium phosphate – dibasic dihydrate, sodium phosphate –  monobasic dihydrate, sodium chloride, and water for injections and traces of polysorbate 20.     ENGERIX-B contains no thiomersal.  The manufacture of this product includes exposure to bovine derived materials.  No evidence  exists that any case of vCJD (considered to be the human form of bovine spongiform  encephalopathy) has resulted from the administration of any vaccine product.  ENGERIX-B is highly purified, and meets the WHO requirements for recombinant hepatitis B  vaccines.  No substances of human origin are used in its manufacture.   2  PHARMACOLOGY  ENGERIX-B induces the production of specific humoral antibodies (anti-HBs), which confer  immunity against hepatitis B.  A peak anti-HBs antibody concentration of ≥10 IU/L correlates with  long-termprotection against hepatitis B virus (HBV) infection (seroprotection).  Seroconversion (SC) is defined as the appearance of antibodies ≥ 1 IU/L in a previously  seronegativeparticipant.    CLINICAL TRIALS  Protective Efficacy  Clinical trials demonstrated SC rates of ≥ 97% (seroprotection (SP) rates of ≥ 96%) in normal  immunocompetent adults and children following a 0, 1, 6 months schedule, and SC rates of >90%  in neonates following injections at 0, 1, 2 months.  At risk groups:  In clinical studies performed in Thailand twenty years after primary vaccination during infancy,  participants born to mothers who were HBV carriers, received a challenge dose of ENGERIX-B.  One month later, at least 93% of participants (N=75) mounted an anamnestic response i.e. at least  (greater than or equal to) a 4-fold rise in post-challenge dose anti-HB’s antibody concentrations in  subjects seropositive at the previous available long-term time-point, demonstrating immune  memory.  Following a 0, 1, 6 month schedule, SC rates of 96.6% and 99% (corresponding to SP rates of  92.3% and 93%) were obtained in mentally retarded individuals and male homosexuals  respectively.  In a clinical trial where thalassaemic patients received three doses of 20µg at 0, 1, 6  months, SC rates as well as SP rates were 100% (17 participants tested).  In healthy adults administered vaccine doses according to a 0, 1, 2 month primary schedule with a  12 month booster, seroprotective rates of 15% and 89% were achieved one month after the first  and third doses respectively. One month after the 12 month booster dose, 95.8% of vaccinees  achieved seroprotective antibody levels.  In healthy adults administered a 0, 7, 21 day primary  schedule with a 12 month booster, seroprotective rates of 65.2% and 76.4% were achieved one  week and one month respectively following the third vaccine dose. One month after the 12 month  booster dose, 98.6% of vaccinees achieved seroprotective antibody levels.    In healthy adolescents (from 11 years up to and including 15 years of age) administered doses of  20 µg at 0 and 6 months, SP rates were 11.3% at month 2, 26.4% at month 6 and 96.7% at month  7.  Immunogenicity in this study was measured by the development of antibody to HBsAg as  detected by enzyme immunoassay (seropositivity cut-off: 3.3 mIU/ml), using a titre of ≥ 10 IU/L as  indicative of seroprotection.     3  The seroprotection rates (SP) obtained with the two different dosages and schedules  recommended in participants from 11 years up to and including 15 years of age were evaluated up  to 66 months after the first dose of the primary vaccination and are presented in Table 1.  Table 1: Seroprotection Rates obtained with two different dosages in participants 11 to 15  years   Vaccine groups Anti-HBs  Month 2  SP (%)  Anti-HBs  Month 6  SP (%)  Anti-HBs  Month 7  SP (%)  Anti-HBs  Month 30  SP (%)  Anti-HBs  Month 42  SP (%)  Anti-HBs  Month 54  SP (%)  Anti-HBs  Month 66  SP (%)  ENGERIX-B 10µg   (0, 1, 6 months  schedule)  55.8  (46.1- 65.1)1  87.6  (80.1- 93.1)1  98.2  (93.8- 99.8)1  96.9  (89.2- 99.6)1  92.5  (84.4- 97.2)1  94.7  (87.1- 98.5)1  91.4  (82.3- 96.8)1  ENGERIX-B 20µg  (0, 6 months  schedule)  11.3  (7.5- 15.9)1  26.4  (20.9- 32.4)1  96.7  (93.6- 98.6)1  87.1  (80.4- 92.2)1  83.7  (77.2- 89.0)1  84.4  (77.5- 89.8)1  79.5  (71.7- 86.1)1  1 95% confidence interval, (lower limit – upper limit)  These data show that a primary vaccination with ENGERIX-B vaccine induces circulating anti-HBs  antibodies that persist for at least 66 months. From one month after completion of the primary  course through to 66 months i.e. Month 7 to Month 66, the Seroprotection rates were comparable  between the 2 groups but tended to be lower in the 20 µg Group (0, 6 months schedule) compared  to the 10 µg Group (0, 1, 6 month schedule) at all timepoints. The seroprotection rates at Month 66  were 79.5% (95%CI 71.7%, 86.1%) and 91.4% (95%CI 82.3%, 96.8%) in the 20 µg Group and 10  µg Group respectively. All participants in both vaccine groups (including participants with anti-HBs  antibody concentrations < 10 IU/l) received a challenge dose 72 to 78 months after primary  vaccination. One month after the challenge dose, all participants mounted an anamnestic response  to the challenge dose and were shown to be seroprotected (i.e. anti-HBs antibody concentrations ≥  10 IU/l). These data suggest that protection against hepatitis B may still be conferred through  immune memory in all participants who responded to primary vaccination but lost seroprotection  level of anti-HBs antibodies.  In healthy participants and patients with renal insuffiency  In patients 16 years of age and above with impaired renal function, including patients undergoing  haemodialysis administered 40 µg (2 x 20 µg) doses at 0, 1, 2 and 6 months, SP rates were   55.4% at month 3 and  87.1% at month 7.   4  Table 2: Seroprotection Rates (SP) obtained with 40 µg (2 x 20 µg) doses in haemodialysis  and pre-haemodialysis patients 16 years of age and above  Group Timing N SP       n        %  Pre-haemodialysis  patients  Month 1  Month 2  Month 3  Month 6  Month 7  Month 12  42  42  42  38  39  36    3       7.1    5     11.9  18     42.9  21     55.3  31     79.5  27     75.0  Haemodialysis patients Month 1  Month 2  Month 3  Month 6  Month 7  Month 12  41  41  40  39  38  34    1       2.4  13     31.7  25     62.5  30     76.9  34     89.5  27     79.4  Immunogenicity was measured by the development of antibody to HBsAg as detected by enzyme  immunoassay (seropositivity cut-off: 3.3 mIU/mL), using a titre of ≥10 IU/L as indicative of  seroprotection.  Rechallenge in healthy participants  In a clinical study conducted in Germany, healthy participants (N=284) aged 12 to 13 years  vaccinated during infancy with 3 doses of ENGERIX-B received a challenge dose of ENGERIX-B.  One month later, 98.9% of participants were shown to be seroprotected.  Reduction in the incidence of hepatocellular carcinoma in children  A significant reduction in the incidence of hepatocellular carcinoma was observed in Taiwanese  children aged 6 - 14 years, following a nationwide hepatitis B vaccination program.  Interchangeability of hepatitis B vaccines  Although no clinical data has been submitted, there is no reason to believe that the use of a  different formulation of hepatitis B vaccine used either during a primary vaccination course or  during booster dosing will not be satisfactory.   5  INDICATIONS  ENGERIX-B is indicated for active immunisation against hepatitis B virus infection. The National  Health and Medical Research Council (NHMRC) recommend all infants, young children and  unvaccinated adolescents receive a primary course of immunisation against hepatitis B.  The NHMRC also recommends immunisation for persons who are at substantial risk and have  been demonstrated or judged to be susceptible to the hepatitis B virus.  Groups identified at  increased risk of acquiring HBV infection include:   • Infants born to carrier (HBsAg-positive) mothers.  • Individuals for whom post-exposure prophylaxis for hepatitis B is indicated.  • Household contacts (other than sexual partners) of acute and chronic hepatitis B cases and  carriers.  • Susceptible sexual contacts.  Risk occurs in susceptible (anti-HBs negative) partners of HBV  carriers and patients with acute hepatitis B.  Susceptible clients of STD (sexually transmitted  disease) clinics, and sexually active men who have sex with men are also at increased risk of  infection.  • Injecting drug users.  • Haemodialysis patients, HIV-positive individuals and other immunosuppressed adults.   • Patients receiving certain blood products especially patients with clotting disorders receiving  blood product concentrates.  • Individuals with chronic liver disease and / or hepatitis C.  • Staff and residents of facilities for the intellectually disabled, including both residential and non- residential care of this group.    • Liver transplant recipients.  Such individuals should be vaccinated prior to transplantation if  seronegative for hepatitis B, as they may be at increased risk of infection from the transplanted  organ.  • Staff and inmates of long term correctional facilities.  • Health care workers, dentists, embalmers, tattooists and body-piercers.  All staff directly  involved in patient care, embalming, or in the handling of human blood or tissue should be  vaccinated.  • Individuals adopting children from overseas.   These children should be tested for hepatitis B,  and if HBsAg positive, members of the adoptive family should be vaccinated.  • Others in whom vaccination may be justified include police, members of the armed forces and  emergency services staff, depending on the risks of exposure associated with assigned duties.   Long term travellers to regions of high endemicity, and those residing for some time in such  regions who may anticipate close personal contact with local residents, should be vaccinated.   Short-term tourists or business travellers are at very little risk of hepatitis B, provided they avoid  exposure through sexual contact, injecting drug use, tattooing and body piercing.  Although the  risk of hepatitis B infection in contact sports is low, immunisation of those involved should not be   6  discouraged.  As the risk in Australian schools is very low, vaccination of classroom contacts is  seldom indicated.  Nevertheless, vaccination of school children and adolescents should be  encouraged.  As hepatitis D (caused by the delta agent) does not occur in the absence of hepatitis B infection, it  can be expected that hepatitis D will also be prevented by vaccination with ENGERIX-B.  The  vaccine will not protect against infection caused by hepatitis A, hepatitis C and hepatitis E viruses,  and other pathogens known to infect the liver.  CONTRAINDICATIONS  ENGERIX-B should not be administered to participants with known hypersensitivity to any  component of the vaccine, or to participants having shown signs of hypersensitivity after previous  ENGERIX-B administration.  As for any vaccine, ENGERIX-B should not be administered to participants with severe febrile  infections.  However, the presence of minor infections without fever does not contraindicate  vaccination.  HIV infection is not considered a contraindication to hepatitis B vaccination.  PRECAUTIONS  The vaccine should never be administered intravenously.    As with all injectable vaccines, appropriate medical treatment (ie adrenaline) and supervision  should always be readily available in case of anaphylactic reactions following the administration of  the vaccine.  It is good clinical practice that any vaccination be preceded by a review of medical history  (especially with regard to previous vaccinations and possible adverse events) and a clinical  examination.  ENGERIX-B should not be administered in the gluteal region or intradermally/subcutaneously since  these routes of administration may not result in an optimum immune response. Exceptionally in  patients with thrombocytopenia or severe bleeding disorders (eg. haemophiliacs) the vaccine may  be administered subcutaneously, since bleeding after intramuscular injection may occur in these  patients (see DOSAGE AND ADMINISTRATION).  The immune response to hepatitis B vaccines is related to a number of factors including route of  administration, age (more than 40 years of age), male gender, obesity, and smoking habits.  As  individuals in these groups may respond less optimally to hepatitis B vaccines, the administration  of additional vaccine doses may be considered.   7  In dialysis patients, HIV infected patients and participants who have impairment of the immune  system, adequate antibody concentrations may not be obtained after the recommended primary  vaccination course.  The need for monitoring antibody levels in such patients should be  considered. (see DOSAGE AND ADMINISTRATION - chronic adult haemodialysis patients)  Caution should be exercised in administering the vaccine to patients in whom a systemic reaction  due to the vaccine may pose a significant risk; eg in patients with severely compromised  cardiopulmonary function.  Syncope (fainting) can occur following, or even before, any vaccination as a psychogenic response  to the needle injection. It is important that procedures are in place to avoid injury from faints.  Because of the long incubation period of hepatitis B, it is possible for unrecognised infection to be  present at the time of vaccination.  The vaccine may not prevent hepatitis B in such cases.    The vaccine may not prevent infection in individuals who do not achieve protective antibody titres.  The vaccine will not protect against infection caused by hepatitis A, hepatitis C and hepatitis E  viruses, and other pathogens known to infect the liver.   The potential risk of apnoea and the need for respiratory monitoring for 48-72 hours should be  considered when administering the primary immunisation series to very premature infants (born ≤  28 weeks of gestation) and particularly for those with a previous history of respiratory immaturity.  As the benefit of vaccination is high in this group of infants, vaccination should not be withheld or  delayed.  Use in Pregnancy (Category B2)  Adequate human data on use during pregnancy and adequate animal reproduction studies are not  available. Therefore, vaccination of pregnant women cannot be recommended, unless expected  benefits outweigh potential risks, as might occur in high risk situations.  Use in Lactation  Adequate human data on use during lactation and adequate animal reproduction studies are not  available.   Use in impaired hepatic function  No information available.  Use in impaired renal function  See under PRECAUTIONS for use in haemodialysis patients.   8  INTERACTIONS WITH OTHER MEDICINES  ENGERIX-B SHOULD NOT BE MIXED IN THE SAME SYRINGE WITH OTHER VACCINES.  ENGERIX-B may be administered concomitantly with the following vaccines: diphtheria-tetanus- pertussis (DTP), diphtheria-tetanus (DT), poliomyelitis (oral or injectable), measles-mumps-rubella,  Haemophilus influenzae type b (Hib), and hepatitis A, providing separate syringes and separate  injection sites are used.  ENGERIX-B can be given concomitantly with Human Papillomavirus (HPV) vaccine (Cervarix).  Administration of ENGERIX-B at the same time as Cervarix (HPV vaccine) has shown no clinically  relevant interference in the antibody response to the HPV antigens. Anti-HBs geometric mean  antibody concentrations were lower on co-administration, but the clinical significance of this  observation is not known since the seroprotection rates remain unaffected. The proportion of  participants reaching anti-HBs ≥ 10mIU/ml was 97.9% for concomitant vaccination and 100% for  ENGERIX-B alone.  The simultaneous administration of ENGERIX-B and hepatitis B immunoglobulin (HBIG) does not  result in reduced anti-HBs antibody titres provided separate injection sites are used.  Effects on the ability to drive and use machinery  The vaccine is considered unlikely to affect the ability to drive and operate machinery.  ADVERSE EFFECTS  ENGERIX-B is generally well tolerated.   Clinical Trials Experience  Based on clinical trial symptom sheet data, the incidence of local side effects is 24% and of  systemic side effects 8%; both local and systemic side effects occurred in approximately 13% of  participants.  The incidence of local and systemic reactions was comparable to those of plasma  derived hepatitis B vaccines.  In a comparative trial in participants from 11 years up to and including 15 years of age, the  incidence of local and general solicited symptoms reported after a two-dose regimen of ENGERIX- B 20 µg was overall similar to that reported after the standard three-dose regimen of ENGERIX-B  10 µg.  Adverse effects data from patients who received a challenge dose of ENGERIX-B 10 µg  (preservative free) at 72 to 78 months after primary vaccination is shown in the below table. The  Group 1 participants had received 2 doses of thiomersal-free ENGERIX-B (20 µg) at 0 and 6  months, with placebo at Month 1. The Group 2 participants had received 3 doses of preservative- free ENGERIX-B (10 µg) at 0, 1 and 6 months.   9  Table 3: Adverse effects data from patients who received a challenge dose of ENGERIX-B   10 µg at 72 to 78 months after primary vaccination  Incidence and Nature of Symptoms reported during the 4-day (Days 0-3) post-vaccination  period       (Total Vaccinated cohort)   Group 1 (N=55) Group 2 (N=22) Pooled (N=77)  n % 95% CI n % 95% CI n % 95% CI  LL UL LL UL LL UL  Any symptom 38 69.1 55.2 80.9 14 63.6 40.7 82.8 52 67.5 55.9 77.8  General symptoms 26 47.3 33.7 61.2 12 54.5 32.2 75.6 38 49.4 37.8 61.0  Local symptoms 31 56.4 42.3 69.7 5 22.7 7.8 45.4 36 46.8 35.3 58.5  Solicited local symptoms  Pain Any 22 40.0 27.0 54.1 4 18.2 5.2 40.3 26 33.8 23.4 45.4  Grade 3 0 0.0 0.0 6.5 0 0.0 0.0 15.4 0 0.0 0.0 4.7  M.A 0 0.0 0.0 6.5 0 0.0 0.0 15.4 0 0.0 0.0 4.7  Redness  (mm)  Any 11 20.0 10.4 33.0 1 4.5 0.1 22.8 12 15.6 8.3 25.6  ≥ 50mm 0 0.0 0.0 6.5 0 0.0 0.0 15.4 0 0.0 0.0 4.7  M.A 0 0.0 0.0 6.5 0 0.0 0.0 15.4 0 0.0 0.0 4.7  Swelling  (mm)  Any 9 16.4 7.8 28.8 0 0.0 0.0 15.4 9 11.7 5.5 21.0  ≥ 50mm 0 0.0 0.0 6.5 0 0.0 0.0 15.4 0 0.0 0.0 4.7  M.A 0 0.0 0.0 6.5 0 0.0 0.0 15.4 0 0.0 0.0 4.7  Solicited General Symptoms  Fatigue Any 19 34.5 22.2 48.6 7 31.8 13.9 54.9 26 33.8 23.4 45.4  Grade 3 1 1.8 0.0 9.7 0 0.0 0.0 15.4 1 1.3 0.0 7.0  Related 15 27.3 16.1 41.0 7 31.8 13.9 54.9 22 28.6 18.8 40.0  Grade 3  Related  0 0.0 0.0 6.5 0 0.0 0.0 15.4 0 0.0 0.0 4.7  M.A 1 1.8 0.0 9.7 0 0.0 0.0 15.4 1 1.3 0.0 7.0  Fever/  (Axillary)  (°C)  Any 1 1.8 0.0 9.7 0 0.0 0.0 15.4 1 1.3 0.0 7.0  ≥  37.5°C  1 1.8 0.0 9.7 0 0.0 0.0 15.4 1 1.3 0.0 7.0  >38.0°C 0 0.0 0.0 6.5 0 0.0 0.0 15.4 0 0.0 0.0 4.7  Related 0 0.0 0.0 6.5 0 0.0 0.0 15.4 0 0.0 0.0 4.7  >39.5°C  Related  0 0.0 0.0 6.5 0 0.0 0.0 15.4 0 0.0 0.0 4.7  M.A 1 1.8 0.0 9.7 0 0.0 0.0 15.4 1 1.3 0.0 7.0  Gastro- intestinal  symptoms  All 7 12.7 5.3 24.5 4 18.2 5.2 40.3 11 14.3 7.4 24.1  Grade 3 0 0.0 0.0 6.5 0 0.0 0.0 15.4 0 0.0 0.0 4.7  Related 7 12.7 5.3 24.5 2 9.1 1.1 29.2 9 11.7 5.5 21.0  Grade 3  Related  0 0.0 0.0 6.5 0 0.0 0.0 15.4 0 0.0 0.0 4.7  M.A 0 0.0 0.0 6.5 0 0.0 0.0 15.4 0 0.0 0.0 4.7  Headache All 14 25.5 14.7 39.0 4 18.2 5.2 40.3 18 23.4 14.5 34.4  Grade 3 0 0.0 0.0 6.5 0 0.0 0.0 15.4 0 0.0 0.0 4.7  Related 11 20.0 10.4 33.0 3 13.6 2.9 34.9 14 18.2 10.3 28.6  Grade 3  Related  0 0.0 0.0 6.5 0 0.0 0.0 15.4 0 0.0 0.0 4.7  M.A 1 1.8 0.0 9.7 0 0.0 0.0 15.4 1 1.3 0.0 7.0  Group 1 = received two doses of Engerix-B (20 μg HBsAg) in the primary study  Group 2 = received three doses of Engerix-B (10 μg HBsAg) in the primary study  N = number of participants who received the vaccine  n (%) = number (percentage) of participants who reported the symptom at least once  95% CI = Exact 95% confidence interval; LL = Lower limit, UL = Upper limit  Any = all reports of the specified symptom irrespective of intensity grade and relationship to vaccination  Grade 3 pain, fatigue, gastrointestinal symptoms, headache = pain, fatigue, gastrointestinal symptoms,  headache that prevented normal activity  Related = symptoms considered by the investigator to have causal relationship to vaccination  Grade 3 Related = adverse event which prevented normal everyday activities and was assessed as  causally related to vaccination  M.A. = symptoms for which the participants received medical attention  Pooled = Pooled results of Group 1 and Group 2   10  The safety profile presented below is based on data from more than 5,300 participants. Events are  listed within body systems and categorised by frequency according to the following definitions:  Frequencies are reported as:  Very common: ≥ 1/10  Common: ≥1/100, <1/10  Uncommon: ≥1/1,000, <1/100  Rare: ≥1/10,000, <1/1,000  Very rare: <1/10,000 including isolated reports  Blood and lymphatic system disorders: Rare: lymphadenopathy  Metabolism and nutrition disorders: Common: appetite lost  Psychiatric disorders: Very common: irritability  Nervous system disorders: Common: headache (very common with 10 µg formulation),  drowsiness; Uncommon: dizziness; Rare: paresthesia  Gastrointestinal disorders: Common: gastrointestinal symptoms (such as nausea, vomiting,  diarrhea, abdominal pain)  Skin and subcutaneous tissue disorders: Rare: rash, pruritus, urticaria  Musculoskeletal and connective tissue disorders: Uncommon: myalgia; Rare: arthralgia  General disorders and administration site conditions: Very common: pain and redness at injection  site, fatigue; Common: swelling at injection site, malaise, injection site reaction (such as  induration), fever (≥37.5°C); Uncommon: influenza-like illness  Post-marketing Data  The following adverse events have been reported following widespread use of the vaccine.  As  with other hepatitis B vaccines, in many instances the causal relationship to the vaccine has not  been established.     Autonomic nervous system:   Rare:  flushing, sweating  Body as a whole:    Rare:  fever, fatigue, malaise, chills  Very rare: anaphylaxis, delayed hypersensitivity reactions, mimicking serum sickness  Unknown frequency: allergic reactions including anaphylactoid reactions  Cardiovascular   Very rare:  syncope, hypotension   11  Central and peripheral nervous system:   Rare:  paraesthesia, dizziness, headache  Very rare:  paralysis, neuropathy (including Guillain-Barre syndrome, facial paralysis, optic neuritis  [visual disturbance] and multiple sclerosis), encephalitis, encephalopathy, meningitis, neck  stiffness, neuritis and vertigo, convulsions  Unknown frequency: hypoaesthesia  Gastrointestinal system:   Rare:  nausea, vomiting, diarrhoea, abdominal pain  Very rare: anorexia  Hearing and Vestibular:   Very rare:  tinnitus  Liver and biliary system:   Rare:  abnormal liver function tests  Local reactions:   Common:  transient soreness, pain, induration, erythema, and swelling at the injection site have  been reported.  These reactions are usually mild and subside within two days.  Very rare: ecchymosis at the injection site  Musculoskeletal system:   Rare:  arthralgia, myalgia  Very rare: arthritis  Unknown frequency: muscular weakness  Platelet bleeding and clotting:   Very rare: thrombocytopenia  Psychiatric:    Very rare: disturbed sleep  Respiratory system:    Very rare: bronchospasm-like symptoms, pharyngitis or other upper respiratory infection, cough   12  Skin and appendages:   Rare:  urticaria, rash, pruritus  Very rare:  severe skin disorders such as erythema multiforme, angioedema  Unknown frequency: lichen planus  Urinary system:   Very rare: dysuria  Vascular extracardiac:   Very rare:  vasculitis  White cell and reticulo-endothelial system:   Very rare:  lymphadenopathy  DOSAGE AND ADMINISTRATION  The vaccine is a ready-to-use suspension.  It must be shaken well before use, since upon storage,  the vaccine settles down as a fine white deposit with a clear colourless supernatant. After shaking,  the vaccine is a slightly opaque, white suspension.   The vaccine should be inspected visually for any foreign particulate matter and/or abnormal  physical appearance prior to administration. In the event of either being observed, the vaccine  should be discarded.  The monodose vial and pre-filled syringe presentations are for use in a single patient only and any  residue must be discarded.  Any unused product or waste material should be disposed of in accordance with local  requirements.  Dosage  The vaccine can be administered at any age from birth onwards.  Vaccination of individuals who  have antibodies against hepatitis B virus from a previous infection is not necessary.  Adults and adolescents older than 19 years:  A dose of 20 µg of antigen protein in 1 mL is recommended in a 0, 1, 6 month schedule.   13  Adolescents:  In adolescents from the age of 10 years, up to and including 19 years, a 10 µg dose is  recommended provided the immunisation is carried out in the 0, 1, 6 month schedule, in  circumstances which will ensure compliance to the full vaccination course.  If compliance cannot  be assured, then a 20 µg dose should be used to increase the proportion of participants protected  after the first and second doses.    The 20 µg vaccine can also be used in participants from 11 years up to and including 15 years of  age in a 0 and 6 month schedule in situations when there is a relatively low risk of hepatitis B  infection during the vaccination course and when compliance with the complete vaccination course  can be anticipated.  Adolescent vaccination is not necessary for children who have received a primary course of  hepatitis B vaccine.  Neonates, infants and children below 10 years of age:    A dose of 10 µg of antigen protein in 0.5 mL suspension is recommended in a 0, 1, 6 months  schedule.    For details on the recommended vaccination schedule, including use in pre-term  babies, refer to the NHMRC Handbook.  In neonates and infants, maternally transferred antibodies do not interfere with the active immune  response to the vaccine.  Administration  ENGERIX-B should be injected intramuscularly.  In adults, the injection should be given in the  deltoid region but it may be preferable to inject ENGERIX-B in the anterolateral thigh in neonates  and infants because of the small size of their deltoid muscle.  Exceptionally, the vaccine may be  administered subcutaneously in patients with thrombocytopenia or severe bleeding tendencies  (e.g. haemophiliacs).    ENGERIX-B MUST NOT BE GIVEN INTRAVENOUSLY.   14  Vaccination Schedules  For primary vaccination of adults, adolescents and children not previously exposed to the hepatitis  B virus, the schedules are as follows:  ______________________________________________________________________________   Vaccine dose Initial 1 month* 6 months*                                        ______________________________________________________________________________  Adults and adolescents over 20 µg 1 mL 1 mL  1 mL  19 years  Adolescents from 10 up to 10 µg 0.5mL 0.5mL  0.5mL  and including 19 years ‡  Adolescents from 11 years 20 µg 1 mL -  1 mL  up to and including 15 years   of age #  Neonates∇ and children  10 µg 0.5mL 0.5mL  0.5mL  younger than 10 years  ______________________________________________________________________________  * after first dose  ‡  if compliance cannot be assured a 20µg dose should be used.  #  The 20 µg vaccine may be administered in participants from 11  years up to and including 15 years of age  according to a 0,6 months schedule.  However, in this case, protection against hepatitis B infections may not  be obtained until after the second dose (see Clinical Pharmacology).  Therefore this schedule should be  used only when there is a relatively low risk of hepatitis B infection during the vaccination course and when  completion of the two-dose vaccination course can be anticipated.  If this cannot be anticipated, the three- dose schedule of the 10 µg vaccine should be used.  ∇  The recommended schedule for hepatitis B vaccine in neonates is 0, 2, 4 and 6 months (refer to the  NHMRC Handbook).  The recommended treatment regimen for infants born to HBsAg positive mothers  (irrespective of the mother’s HBeAg status) is as follows:  _______________________________________________________________________________   Vaccine Dose At birth 1 month* 6 months*                                        _______________________________________________________________________________  ENGERIX-B vaccine  10 µg 0.5mL 0.5mL    0.5mL  Hepatitis B Immunoglobulin      - 100 IU      -        -  (HBIG)  _______________________________________________________________________________  * after first dose   15  The first dose of vaccine and immunoglobulin should preferably be given within 12 hours of birth at  separate sites.  The efficacy of HBIG decreases markedly if treatment is delayed beyond 48 hours.   If this is not possible, vaccination should not be delayed beyond 7 days after birth.  Testing for HBsAg and anti-HBs is suggested at 12-15 months of age.  If HBsAg is not detectable  and anti-HBs is present, the child has been protected.  Accelerated schedules  In circumstances where more rapid protection is required (e.g. contacts of carriers, immunisation of  travellers and newborns to carrier women) two accelerated vaccination schedules of 0, 1 and 2  months or 0, 7 and 21 days may be used.  However, as higher seroprotective rates are observed  following the 0, 1, 2 month schedule, it is recommended the 0, 7, 21 day schedule be administered  only to adults, and only in exceptional circumstances (e.g travellers commencing hepatitis B primary  vaccination within one month of departure).  (see CLINICAL PHARMACOLOGY)  Since the peak  antibody levels reached after these shorter schedules of primary vaccination are lower compared to  the 0, 1 and 6 month schedule, it is recommended that a fourth dose (booster) be given at 12  months after the first dose of vaccine, in order to ensure adequate seroprotection rates.  Chronic adult haemodialysis patients/Patients with impaired renal function (creatinine  clearance <30 mL/min) 16 years of age and above  The primary vaccination schedule for chronic adult haemodialysis patients or patients with impaired  renal function 16 years of age and above consists of four doses of 40µg.  The 40 µg (2mL) dose  may be administered as 2 x 20 µg in one injection site or in each arm.  _______________________________________________________________________________   Vaccine dose Initial 1 month* 2 months* 6months*  _______________________________________________________________________________  Chronic haemodialysis or 40 µg 2mL 2mL 2mL 2mL  Impaired renal function  patients  _______________________________________________________________________________  * after first dose  As vaccine-induced protection in haemodialysis patients is less complete, boosting should be  adapted in order to ensure the anti-HBs antibody titre remains above 10IU/L (see  PRECAUTIONS).  The need for booster dosing should be assessed by antibody testing at six to  twelve monthly intervals.  ENGERIX-B booster doses of 40 µg (2 x 20 µg) are recommended for  these patients.   16  Post-exposure prophylaxis  There are no adequately controlled studies on the effectiveness of hepatitis B immunoglobulin  administration, along with the vaccine, in adults and older children exposed to hepatitis B virus  through 1) needlestick, ocular or mucous membrane exposure to blood known or presumed to  contain HBsAg; 2) human bites by known or presumed HBsAg carriers that penetrate the skin;  3)  following intimate sexual contact with known or presumed HBsAg carriers.  Hepatitis B immunoglobulin (human) (400 IU) should be given intramuscularly as soon as possible  (must be within 72 hours of exposure).  ENGERIX-B should be given at a separate site within 7 days  and then at 1 month and 6 months.  Passive immunisation will not interfere with active response to  ENGERIX-B.  Booster dose  The NHMRC recommends that booster doses against hepatitis B are not required in  immunocompetent individuals, since there is good evidence that a completed primary course of  hepatitis B vaccination provides long lasting protection in these individuals. This applies to adults,  children and all subgroups (such as health care workers).  Booster doses are recommended for  immunosuppressed individuals, for people living with HIV infection or with renal failure.  The timing  for boosting in these individuals should be decided by regular monitoring of hepatitis B antibody  levels at six to twelve monthly intervals.  OVERDOSAGE  Cases of overdose have been reported during post-marketing surveillance. Adverse events  reported following overdosage were similar to those reported with normal vaccine administration.  For information on the management of overdose, contact the Poison Information Centre on 131126  (Australia).  PRESENTATIONS AND STORAGE CONDITIONS  ENGERIX-B 20 µg (Adult dose):  Monodose vials (1mL) in packs of 1, 10 and 25.  Pre-filled syringes in packs of 1, 10 and 25.  ENGERIX-B 10 µg (Paediatric dose):  Monodose vials (0.5mL) in packs of 1, 10 and 25.  Pre-filled syringe in packs of 1, 10 and 25.  Not all presentations and pack sizes maybe marketed.  NB: Each vaccination should be carried out with a separate syringe.  The vials and syringes are made of neutral glass type 1, which conforms to European  Pharmacopoeia requirements.   17  The shelf-life of ENGERIX-B is three years from the date of manufacture when stored between +2°C  to +8°C.  DO NOT FREEZE, discard if the vaccine has been frozen.  The expiry date of the vaccine is indicated on the label and packaging.  MANUFACTURED BY:   GlaxoSmithKline Biologicals SA  rue de l'Institut 89  1330 Rixensart, Belgium.  NAME AND ADDRESS OF THE SPONSOR  GlaxoSmithKline Australia Pty Ltd  Level 4, 436 Johnston Street  Abbotsford Victoria 3067  POISON SCHEDULE OF THE MEDICINE  Schedule 4 – Prescription Only Medicine  *National Health and Medical Research Council.  The Australian Immunisation Handbook 9th  Edition, 2008.  Date of first inclusion in the Australian Register of Therapeutic Goods (the ARTG):  24 July 2006  Date of most recent amendment: 05 November 2013  Version 6.0  Engerix\\uf8e8 is a registered trade mark of the GlaxoSmithKline group of companies  AUST R: 123713, 123709, 123712, 123710  \\tGroup \\tPRECAUTIONS \\tEffects on the ability to drive and use machinery \\tAdolescents from 11 years 20 (g 1 mL -  1 mL \\tup to and including 15 years \\tImpaired renal function \\tOVERDOSAGE \\t24 July 2006\""
      ]
     },
     "execution_count": 8,
     "metadata": {},
     "output_type": "execute_result"
    }
   ],
   "source": [
    "rawList_str"
   ]
  },
  {
   "cell_type": "code",
   "execution_count": 9,
   "metadata": {},
   "outputs": [],
   "source": [
    "from gensim.summarization import keywords\n",
    "from gensim.summarization.summarizer import summarize,summarize_corpus"
   ]
  },
  {
   "cell_type": "code",
   "execution_count": null,
   "metadata": {},
   "outputs": [],
   "source": [
    "#help(summarize)    #uncomment to know more \n",
    "#help(keywords)"
   ]
  },
  {
   "cell_type": "code",
   "execution_count": 10,
   "metadata": {},
   "outputs": [],
   "source": [
    "gensim_keywords = keywords(rawList_str,lemmatize=True,scores=True,ratio=0.40)"
   ]
  },
  {
   "cell_type": "code",
   "execution_count": 12,
   "metadata": {},
   "outputs": [
    {
     "name": "stdout",
     "output_type": "stream",
     "text": [
      "[('vaccinations', 0.35707230445427623), ('rare', 0.2381466380356035), ('include', 0.16879690993073815), ('engerix', 0.1511676943659853), ('patient', 0.14142842334321204), ('symptoms', 0.13321185789907156), ('follows', 0.12284069928036315), ('dosing', 0.12130435935588002), ('antibody', 0.11841118936247906), ('group', 0.11743072891302904), ('clinically', 0.11646502417032553), ('schedules', 0.11628666437858236), ('infected', 0.11621033512735497), ('month', 0.11549655684478422), ('seroprotected', 0.10626756998639217), ('inject', 0.10115043569941108), ('risks', 0.10092667599621921), ('hepatic', 0.10058127147646197), ('reaction', 0.09757893614511093), ('disorders', 0.09309958571964129), ('common', 0.09106816482621664), ('function', 0.08602773656977257), ('human', 0.08012266124608466), ('protected', 0.08005926218467058), ('adult', 0.07898982799814402), ('anti', 0.07873379666553135), ('contact', 0.07666971109211623), ('adolescent', 0.07420984316658732), ('use', 0.07321506671773292), ('children', 0.07295571972024015), ('term', 0.07166745110750772), ('immunisation', 0.07120176143072811), ('receiving', 0.07055131909061058), ('antigens', 0.07040016123818853), ('pain', 0.06790495970322523), ('exposure', 0.06694874193781451), ('activities', 0.06553041572440547), ('years', 0.06514383260237239), ('primary', 0.06410190335240219), ('individuals', 0.06364377993506279), ('adequately', 0.06344711859059833), ('frequencies', 0.06332795872424375), ('liver', 0.0628631867786066), ('long', 0.06271504645364834), ('sexually', 0.061658731981808615), ('study', 0.06139770604231186), ('participants born', 0.06107807668291474), ('administration', 0.06054888041316504), ('site', 0.06013577776291257), ('adverse', 0.0592903461821891), ('administering', 0.058745035771369435), ('haemodialysis', 0.05771215196531985), ('response', 0.05738988518684313), ('infants', 0.05709383963483631), ('carrier', 0.05653223643461157), ('uncommon', 0.05556884764052373), ('staff', 0.05527724345533031), ('post', 0.05413783996603552), ('blood products', 0.05339374660634623), ('aged', 0.05187491907186461), ('seropositivity', 0.05184161542973029), ('data', 0.051407274049567346), ('fatigue', 0.05137596898624226), ('unknown', 0.0512230793154873), ('recommends', 0.050958790546499294), ('trial', 0.050785402914912584), ('local', 0.05035152142555027), ('medical', 0.04975506268650477), ('white cell', 0.04912038295602876), ('body', 0.04856926051717828), ('respiratory', 0.048465176302112854), ('care', 0.04765864885423563), ('derived', 0.04611969056474979), ('gastrointestinal', 0.045732904445732275), ('intervals', 0.04477114383758435), ('chronic', 0.04460409738959178), ('glaxosmithkline', 0.044111813843216), ('hbsag', 0.04406665502115132), ('indicated', 0.04342794642109306), ('overdosage', 0.04277378417407525), ('information', 0.04270057593045342), ('sizes', 0.04238190001511083), ('colourless', 0.042320844815887125), ('particulate', 0.042320844815886875), ('rixensart', 0.04232084481588687), ('date', 0.04232084415094282), ('demonstrating immune', 0.04199477637871521), ('severely', 0.041954118414058696), ('related', 0.04150812202126612), ('positive', 0.04059607435548875), ('renal', 0.04042205294947479), ('previous available', 0.040278219859815244), ('total', 0.04004044310673712), ('nervous', 0.039959572174356), ('syncope', 0.039866124580062105), ('encephalopathy', 0.03914199918199546), ('influenza', 0.038896322143588714), ('recombinant', 0.03886082608092171), ('normal', 0.0388597416312994), ('provides', 0.03868409707504523), ('paralysis', 0.03856561525860315), ('testing', 0.038400106306758275), ('effectiveness', 0.038323868569222784), ('bleeding', 0.038124976415847195), ('skin', 0.03802641650414455), ('reports', 0.03777530965050767), ('respectively', 0.037446330804289135), ('goods', 0.03682820449705973), ('rates', 0.03661995555055454), ('pooled', 0.03627040325210847), ('marketed', 0.036227896818998885), ('australia', 0.03597839711449728), ('july', 0.035972716877047284), ('free', 0.03570443674085479), ('immunoassay', 0.035593418575690115), ('fever', 0.035559874008215836), ('considered', 0.03550731961034503), ('susceptible', 0.03550385547187467), ('contain sodium phosphate', 0.035107091600829955), ('low', 0.035105342638621216), ('urticaria', 0.0349684333204741), ('presentations', 0.03491647396802561), ('hbv', 0.034725598325292616), ('visually', 0.034700905538437965), ('neuritis', 0.03443594061271583), ('level', 0.03431694134521559), ('hpv', 0.034099892070492195), ('grade', 0.03381916308373974), ('transplanted', 0.033764189539032194), ('machinery', 0.03364641423312721), ('embalming', 0.03356343011916919), ('malaise', 0.03330399103144663), ('dihydrate', 0.03309687129259837), ('healthy', 0.033067083657077376), ('dosage', 0.03241216309422997), ('dizziness', 0.03234801485245259), ('region', 0.03230088303684599), ('travellers', 0.032153453563233785), ('required', 0.032065186220544106), ('booster', 0.031974977036972205), ('lymphadenopathy', 0.03189081629047316), ('sclerosis', 0.03188820843969522), ('general', 0.031811401816038996), ('separate syringes', 0.031070634285434384), ('vomiting', 0.03102915788121111), ('directly', 0.03098747967810521), ('services', 0.03098747967810521), ('headache', 0.030748096304338654), ('remains', 0.030675740049977567), ('tissue', 0.030568438478190085), ('amendment', 0.03048615915791911), ('health', 0.03046052071930224), ('hiv', 0.030357399796271854), ('australian', 0.030352100635583537), ('autonomic', 0.030322844920338272), ('monitoring', 0.03029095821562878), ('subcutaneous', 0.03022993110383358), ('diphtheria', 0.03016542928412543), ('disturbed', 0.03014146777951572), ('table', 0.030137473573980687), ('neonates', 0.029917709451771288), ('male', 0.029746728548119022), ('pharmacology', 0.029675983136422238), ('deltoid', 0.02961258971683184), ('trade', 0.02957781218693242), ('hydroxide', 0.02949323643404619), ('known', 0.029410714240594476), ('days', 0.029403581772978554), ('benefits outweigh', 0.029368988421292697), ('glass', 0.029267690077736636), ('decreases', 0.029212650381189923), ('oral', 0.02899761589236723), ('poliomyelitis', 0.028997615892367226), ('reticulo', 0.02899761589236714), ('number', 0.028997615892367136), ('percentage', 0.028997615892367115), ('companies', 0.028997615892367087), ('hepatocellular carcinoma', 0.028997615892367073), ('people living', 0.028997615892367032), ('shelf', 0.028997615892367032), ('smoking', 0.02899761589236703), ('arm', 0.028997615892367008), ('anterolateral thigh', 0.02899761589236699), ('fold rise', 0.028997615892366983), ('status', 0.028997615892366976), ('freeze discard', 0.028997615892366976), ('agent', 0.028997615892366973), ('habits', 0.02899761589236697), ('circumstances', 0.028997615892366962), ('aust', 0.028997615892366962), ('forces', 0.02899761589236695), ('needlestick ocular', 0.02899761589236695), ('highly', 0.02899761589236694), ('delta', 0.02899761589236694), ('pregnancy', 0.02899761589236694), ('category', 0.02899761589236694), ('usually mild', 0.028997615892366935), ('hbeag', 0.028997615892366928), ('exceptional', 0.02899761589236692), ('overall similar', 0.028997615892366907), ('purified', 0.028997615892366865), ('encephalitis', 0.028992364072290833), ('immunoglobulin', 0.028962843177403927), ('evidence', 0.02893384947313572), ('abdominal', 0.028890810266586634), ('confidence', 0.028762672106652096), ('planus', 0.02873366752742925), ('achieve', 0.028715881300434898), ('adoptive', 0.028582988952256767), ('workers', 0.02857772395954909), ('lower', 0.02848638633709276), ('suspension', 0.028382337892928877), ('yeast', 0.02819828835107599), ('profile', 0.02808585419606899), ('vascular', 0.028075316687412012), ('material', 0.027940935663626057), ('significance', 0.027928170154370244), ('conditions', 0.027924079128486146), ('induration', 0.0277812803126051), ('shown', 0.027755955175056395), ('period', 0.027441959627777797), ('nhmrc', 0.027316722003608636), ('saccharomyces', 0.02730872396298746), ('hypersensitivity', 0.02726227686991771), ('poison', 0.02722583217299571), ('muscle', 0.027141345981922985), ('delayed', 0.027062673438643017), ('abnormal', 0.027056933739563582), ('opaque', 0.027030881780133246), ('rash', 0.027021065874603616), ('disease', 0.026915591617014713), ('given', 0.02690606147320004), ('november', 0.026885166475268157), ('pharmacopoeia', 0.02682109511695139), ('pre', 0.02675166716822528), ('completed', 0.026733284474923708), ('timing', 0.02661653334156787), ('lost', 0.026594022277305503), ('meningitis neck', 0.026578849164304363), ('psychiatric', 0.026483375156632852), ('titres', 0.026327365964646875), ('convulsions', 0.026230546996109105), ('impairment', 0.026216308444314117)]\n"
     ]
    }
   ],
   "source": [
    "print(gensim_keywords)"
   ]
  },
  {
   "cell_type": "code",
   "execution_count": 15,
   "metadata": {},
   "outputs": [],
   "source": [
    "gensim_text_rank = summarize(rawList_str,ratio=0.10)   #ratio is the quantity of original text that should be in summary, word_count parameter can also be used"
   ]
  },
  {
   "cell_type": "code",
   "execution_count": 16,
   "metadata": {},
   "outputs": [
    {
     "name": "stdout",
     "output_type": "stream",
     "text": [
      "At risk groups:  In clinical studies performed in Thailand twenty years after primary vaccination during infancy,  participants born to mothers who were HBV carriers, received a challenge dose of ENGERIX-B.\n",
      "One month later, at least 93% of participants (N=75) mounted an anamnestic response i.e. at least  (greater than or equal to) a 4-fold rise in post-challenge dose anti-HB’s antibody concentrations in  subjects seropositive at the previous available long-term time-point, demonstrating immune  memory.\n",
      "In healthy adults administered vaccine doses according to a 0, 1, 2 month primary schedule with a  12 month booster, seroprotective rates of 15% and 89% were achieved one month after the first  and third doses respectively.\n",
      "In healthy adults administered a 0, 7, 21 day primary  schedule with a 12 month booster, seroprotective rates of 65.2% and 76.4% were achieved one  week and one month respectively following the third vaccine dose.\n",
      "3  The seroprotection rates (SP) obtained with the two different dosages and schedules  recommended in participants from 11 years up to and including 15 years of age were evaluated up  to 66 months after the first dose of the primary vaccination and are presented in Table 1.\n",
      "Table 1: Seroprotection Rates obtained with two different dosages in participants 11 to 15  years   Vaccine groups Anti-HBs  Month 2  SP (%)  Anti-HBs  Month 6  SP (%)  Anti-HBs  Month 7  SP (%)  Anti-HBs  Month 30  SP (%)  Anti-HBs  Month 42  SP (%)  Anti-HBs  Month 54  SP (%)  Anti-HBs  Month 66  SP (%)  ENGERIX-B 10µg   (0, 1, 6 months  schedule)  55.8  (46.1- 65.1)1  87.6  (80.1- 93.1)1  98.2  (93.8- 99.8)1  96.9  (89.2- 99.6)1  92.5  (84.4- 97.2)1  94.7  (87.1- 98.5)1  91.4  (82.3- 96.8)1  ENGERIX-B 20µg  (0, 6 months  schedule)  11.3  (7.5- 15.9)1  26.4  (20.9- 32.4)1  96.7  (93.6- 98.6)1  87.1  (80.4- 92.2)1  83.7  (77.2- 89.0)1  84.4  (77.5- 89.8)1  79.5  (71.7- 86.1)1  1 95% confidence interval, (lower limit – upper limit)  These data show that a primary vaccination with ENGERIX-B vaccine induces circulating anti-HBs  antibodies that persist for at least 66 months.\n",
      "All participants in both vaccine groups (including participants with anti-HBs  antibody concentrations < 10 IU/l) received a challenge dose 72 to 78 months after primary  vaccination.\n",
      "These data suggest that protection against hepatitis B may still be conferred through  immune memory in all participants who responded to primary vaccination but lost seroprotection  level of anti-HBs antibodies.\n",
      "The National  Health and Medical Research Council (NHMRC) recommend all infants, young children and  unvaccinated adolescents receive a primary course of immunisation against hepatitis B.\n",
      "7  In dialysis patients, HIV infected patients and participants who have impairment of the immune  system, adequate antibody concentrations may not be obtained after the recommended primary  vaccination course.\n",
      "The simultaneous administration of ENGERIX-B and hepatitis B immunoglobulin (HBIG) does not  result in reduced anti-HBs antibody titres provided separate injection sites are used.\n",
      "Adverse effects data from patients who received a challenge dose of ENGERIX-B 10 µg  (preservative free) at 72 to 78 months after primary vaccination is shown in the below table.\n",
      "13  Adolescents:  In adolescents from the age of 10 years, up to and including 19 years, a 10 µg dose is  recommended provided the immunisation is carried out in the 0, 1, 6 month schedule, in  circumstances which will ensure compliance to the full vaccination course.\n",
      "The 20 µg vaccine can also be used in participants from 11 years up to and including 15 years of  age in a 0 and 6 month schedule in situations when there is a relatively low risk of hepatitis B  infection during the vaccination course and when compliance with the complete vaccination course  can be anticipated.\n",
      "#  The 20 µg vaccine may be administered in participants from 11  years up to and including 15 years of age  according to a 0,6 months schedule.\n",
      "However, as higher seroprotective rates are observed  following the 0, 1, 2 month schedule, it is recommended the 0, 7, 21 day schedule be administered  only to adults, and only in exceptional circumstances (e.g travellers commencing hepatitis B primary  vaccination within one month of departure).\n",
      "(see CLINICAL PHARMACOLOGY)  Since the peak  antibody levels reached after these shorter schedules of primary vaccination are lower compared to  the 0, 1 and 6 month schedule, it is recommended that a fourth dose (booster) be given at 12  months after the first dose of vaccine, in order to ensure adequate seroprotection rates. \n"
     ]
    }
   ],
   "source": [
    "print(gensim_text_rank,'')"
   ]
  },
  {
   "cell_type": "code",
   "execution_count": 17,
   "metadata": {},
   "outputs": [],
   "source": [
    "gensim_text_rank = summarize(rawList_str,word_count = 50)"
   ]
  },
  {
   "cell_type": "code",
   "execution_count": 18,
   "metadata": {},
   "outputs": [
    {
     "name": "stdout",
     "output_type": "stream",
     "text": [
      "3  The seroprotection rates (SP) obtained with the two different dosages and schedules  recommended in participants from 11 years up to and including 15 years of age were evaluated up  to 66 months after the first dose of the primary vaccination and are presented in Table 1. \n"
     ]
    }
   ],
   "source": [
    "print(gensim_text_rank,'')"
   ]
  },
  {
   "cell_type": "code",
   "execution_count": 19,
   "metadata": {},
   "outputs": [
    {
     "name": "stderr",
     "output_type": "stream",
     "text": [
      "[nltk_data] Downloading package punkt to /Users/patsnap/nltk_data...\n",
      "[nltk_data]   Package punkt is already up-to-date!\n"
     ]
    }
   ],
   "source": [
    "import sumy\n",
    "from sumy.summarizers.lex_rank import LexRankSummarizer\n",
    "from sumy.nlp.tokenizers import Tokenizer\n",
    "import nltk\n",
    "nltk.download('punkt')\n",
    "from sumy.parsers.plaintext import PlaintextParser\n",
    "parser = PlaintextParser.from_string(rawList_str,Tokenizer('english'))"
   ]
  },
  {
   "cell_type": "code",
   "execution_count": 22,
   "metadata": {},
   "outputs": [],
   "source": [
    "Lex = LexRankSummarizer()\n",
    "#Lex.stop_words = [' ']\n",
    "Lex_summary = Lex(document=parser.document,sentences_count=5)"
   ]
  },
  {
   "cell_type": "code",
   "execution_count": 23,
   "metadata": {},
   "outputs": [
    {
     "name": "stdout",
     "output_type": "stream",
     "text": [
      "In healthy participants and patients with renal insuffiency  In patients 16 years of age and above with impaired renal function, including patients undergoing  haemodialysis administered 40 µg (2 x 20 µg) doses at 0, 1, 2 and 6 months, SP rates were   55.4% at month 3 and  87.1% at month 7.\n",
      "Interchangeability of hepatitis B vaccines  Although no clinical data has been submitted, there is no reason to believe that the use of a  different formulation of hepatitis B vaccine used either during a primary vaccination course or  during booster dosing will not be satisfactory.\n",
      "Vaccination of individuals who  have antibodies against hepatitis B virus from a previous infection is not necessary.\n",
      "Neonates, infants and children below 10 years of age:    A dose of 10 µg of antigen protein in 0.5 mL suspension is recommended in a 0, 1, 6 months  schedule.\n",
      "(see CLINICAL PHARMACOLOGY)  Since the peak  antibody levels reached after these shorter schedules of primary vaccination are lower compared to  the 0, 1 and 6 month schedule, it is recommended that a fourth dose (booster) be given at 12  months after the first dose of vaccine, in order to ensure adequate seroprotection rates.\n"
     ]
    }
   ],
   "source": [
    "for sentence in Lex_summary:\n",
    "    print(sentence)"
   ]
  },
  {
   "cell_type": "code",
   "execution_count": 26,
   "metadata": {},
   "outputs": [],
   "source": [
    "from sumy.summarizers.luhn import LuhnSummarizer\n",
    "Luhn = LuhnSummarizer()\n",
    "Luhn_summary = Luhn(parser.document, sentences_count = 5)"
   ]
  },
  {
   "cell_type": "code",
   "execution_count": 27,
   "metadata": {},
   "outputs": [
    {
     "name": "stdout",
     "output_type": "stream",
     "text": [
      "10 µg dose vaccine  1 dose (0.5 ml) contains:  10 micrograms Hepatitis B surface antigen 1, 2   1Adsorbed on aluminium hydroxide, hydrated  Total: 0.25 milligrams Al3+  2Produced in yeast cells (Saccharomyces cerevisiae) by recombinant DNA technology  20µg dose vaccine  1 dose (1 ml) contains:  20 micrograms Hepatitis B surface antigen1, 2   1Adsorbed on aluminium hydroxide, hydrated Total: 0.50 milligrams Al3+  2Produced in yeast cells (Saccharomyces cerevisiae) by recombinant DNA technology  The final vaccines also contain sodium phosphate – dibasic dihydrate, sodium phosphate –  monobasic dihydrate, sodium chloride, and water for injections and traces of polysorbate 20.\n",
      "4  Table 2: Seroprotection Rates (SP) obtained with 40 µg (2 x 20 µg) doses in haemodialysis  and pre-haemodialysis patients 16 years of age and above  Group Timing N SP       n        %  Pre-haemodialysis  patients  Month 1  Month 2  Month 3  Month 6  Month 7  Month 12  42  42  42  38  39  36    3       7.1    5     11.9  18     42.9  21     55.3  31     79.5  27     75.0  Haemodialysis patients Month 1  Month 2  Month 3  Month 6  Month 7  Month 12  41  41  40  39  38  34    1       2.4  13     31.7  25     62.5  30     76.9  34     89.5  27     79.4  Immunogenicity was measured by the development of antibody to HBsAg as detected by enzyme  immunoassay (seropositivity cut-off: 3.3 mIU/mL), using a titre of ≥10 IU/L as indicative of  seroprotection.\n",
      "9  Table 3: Adverse effects data from patients who received a challenge dose of ENGERIX-B   10 µg at 72 to 78 months after primary vaccination  Incidence and Nature of Symptoms reported during the 4-day (Days 0-3) post-vaccination  period       (Total Vaccinated cohort)   Group 1 (N=55) Group 2 (N=22) Pooled (N=77)  n % 95% CI n % 95% CI n % 95% CI  LL UL LL UL LL UL  Any symptom 38 69.1 55.2 80.9 14 63.6 40.7 82.8 52 67.5 55.9 77.8  General symptoms 26 47.3 33.7 61.2 12 54.5 32.2 75.6 38 49.4 37.8 61.0  Local symptoms 31 56.4 42.3 69.7 5 22.7 7.8 45.4 36 46.8 35.3 58.5  Solicited local symptoms  Pain Any 22 40.0 27.0 54.1 4 18.2 5.2 40.3 26 33.8 23.4 45.4  Grade 3 0 0.0 0.0 6.5 0 0.0 0.0 15.4 0 0.0 0.0 4.7  M.A 0 0.0 0.0 6.5 0 0.0 0.0 15.4 0 0.0 0.0 4.7  Redness  (mm)  Any 11 20.0 10.4 33.0 1 4.5 0.1 22.8 12 15.6 8.3 25.6  ≥ 50mm 0 0.0 0.0 6.5 0 0.0 0.0 15.4 0 0.0 0.0 4.7  M.A 0 0.0 0.0 6.5 0 0.0 0.0 15.4 0 0.0 0.0 4.7  Swelling  (mm)  Any 9 16.4 7.8 28.8 0 0.0 0.0 15.4 9 11.7 5.5 21.0  ≥ 50mm 0 0.0 0.0 6.5 0 0.0 0.0 15.4 0 0.0 0.0 4.7  M.A 0 0.0 0.0 6.5 0 0.0 0.0 15.4 0 0.0 0.0 4.7  Solicited General Symptoms  Fatigue Any 19 34.5 22.2 48.6 7 31.8 13.9 54.9 26 33.8 23.4 45.4  Grade 3 1 1.8 0.0 9.7 0 0.0 0.0 15.4 1 1.3 0.0 7.0  Related 15 27.3 16.1 41.0 7 31.8 13.9 54.9 22 28.6 18.8 40.0  Grade 3  Related  0 0.0 0.0 6.5 0 0.0 0.0 15.4 0 0.0 0.0 4.7  M.A 1 1.8 0.0 9.7 0 0.0 0.0 15.4 1 1.3 0.0 7.0  Fever/  (Axillary)  (°C)  Any 1 1.8 0.0 9.7 0 0.0 0.0 15.4 1 1.3 0.0 7.0  ≥  37.5°C  1 1.8 0.0 9.7 0 0.0 0.0 15.4 1 1.3 0.0 7.0  >38.0°C 0 0.0 0.0 6.5 0 0.0 0.0 15.4 0 0.0 0.0 4.7  Related 0 0.0 0.0 6.5 0 0.0 0.0 15.4 0 0.0 0.0 4.7  >39.5°C  Related  0 0.0 0.0 6.5 0 0.0 0.0 15.4 0 0.0 0.0 4.7  M.A 1 1.8 0.0 9.7 0 0.0 0.0 15.4 1 1.3 0.0 7.0  Gastro- intestinal  symptoms  All 7 12.7 5.3 24.5 4 18.2 5.2 40.3 11 14.3 7.4 24.1  Grade 3 0 0.0 0.0 6.5 0 0.0 0.0 15.4 0 0.0 0.0 4.7  Related 7 12.7 5.3 24.5 2 9.1 1.1 29.2 9 11.7 5.5 21.0  Grade 3  Related  0 0.0 0.0 6.5 0 0.0 0.0 15.4 0 0.0 0.0 4.7  M.A 0 0.0 0.0 6.5 0 0.0 0.0 15.4 0 0.0 0.0 4.7  Headache All 14 25.5 14.7 39.0 4 18.2 5.2 40.3 18 23.4 14.5 34.4  Grade 3 0 0.0 0.0 6.5 0 0.0 0.0 15.4 0 0.0 0.0 4.7  Related 11 20.0 10.4 33.0 3 13.6 2.9 34.9 14 18.2 10.3 28.6  Grade 3  Related  0 0.0 0.0 6.5 0 0.0 0.0 15.4 0 0.0 0.0 4.7  M.A 1 1.8 0.0 9.7 0 0.0 0.0 15.4 1 1.3 0.0 7.0  Group 1 = received two doses of Engerix-B (20 μg HBsAg) in the primary study  Group 2 = received three doses of Engerix-B (10 μg HBsAg) in the primary study  N = number of participants who received the vaccine  n (%) = number (percentage) of participants who reported the symptom at least once  95% CI = Exact 95% confidence interval; LL = Lower limit, UL = Upper limit  Any = all reports of the specified symptom irrespective of intensity grade and relationship to vaccination  Grade 3 pain, fatigue, gastrointestinal symptoms, headache = pain, fatigue, gastrointestinal symptoms,  headache that prevented normal activity  Related = symptoms considered by the investigator to have causal relationship to vaccination  Grade 3 Related = adverse event which prevented normal everyday activities and was assessed as  causally related to vaccination  M.A.\n",
      "Events are  listed within body systems and categorised by frequency according to the following definitions:  Frequencies are reported as:  Very common: ≥ 1/10  Common: ≥1/100, <1/10  Uncommon: ≥1/1,000, <1/100  Rare: ≥1/10,000, <1/1,000  Very rare: <1/10,000 including isolated reports  Blood and lymphatic system disorders: Rare: lymphadenopathy  Metabolism and nutrition disorders: Common: appetite lost  Psychiatric disorders: Very common: irritability  Nervous system disorders: Common: headache (very common with 10 µg formulation),  drowsiness; Uncommon: dizziness; Rare: paresthesia  Gastrointestinal disorders: Common: gastrointestinal symptoms (such as nausea, vomiting,  diarrhea, abdominal pain)  Skin and subcutaneous tissue disorders: Rare: rash, pruritus, urticaria  Musculoskeletal and connective tissue disorders: Uncommon: myalgia; Rare: arthralgia  General disorders and administration site conditions: Very common: pain and redness at injection  site, fatigue; Common: swelling at injection site, malaise, injection site reaction (such as  induration), fever (≥37.5°C); Uncommon: influenza-like illness  Post-marketing Data  The following adverse events have been reported following widespread use of the vaccine.\n",
      "14  Vaccination Schedules  For primary vaccination of adults, adolescents and children not previously exposed to the hepatitis  B virus, the schedules are as follows:  ______________________________________________________________________________   Vaccine dose Initial 1 month* 6 months*                                        ______________________________________________________________________________  Adults and adolescents over 20 µg 1 mL 1 mL  1 mL  19 years  Adolescents from 10 up to 10 µg 0.5mL 0.5mL  0.5mL  and including 19 years ‡  Adolescents from 11 years 20 µg 1 mL -  1 mL  up to and including 15 years   of age #  Neonates∇ and children  10 µg 0.5mL 0.5mL  0.5mL  younger than 10 years  ______________________________________________________________________________  * after first dose  ‡  if compliance cannot be assured a 20µg dose should be used.\n"
     ]
    }
   ],
   "source": [
    "for sentence in Luhn_summary:\n",
    "    print(sentence)"
   ]
  },
  {
   "cell_type": "code",
   "execution_count": null,
   "metadata": {},
   "outputs": [],
   "source": []
  },
  {
   "cell_type": "code",
   "execution_count": null,
   "metadata": {},
   "outputs": [],
   "source": []
  },
  {
   "cell_type": "code",
   "execution_count": null,
   "metadata": {},
   "outputs": [],
   "source": []
  },
  {
   "cell_type": "code",
   "execution_count": null,
   "metadata": {},
   "outputs": [],
   "source": []
  },
  {
   "cell_type": "code",
   "execution_count": null,
   "metadata": {},
   "outputs": [],
   "source": []
  },
  {
   "cell_type": "code",
   "execution_count": null,
   "metadata": {},
   "outputs": [],
   "source": []
  },
  {
   "cell_type": "code",
   "execution_count": null,
   "metadata": {},
   "outputs": [],
   "source": []
  },
  {
   "cell_type": "code",
   "execution_count": null,
   "metadata": {},
   "outputs": [],
   "source": []
  },
  {
   "cell_type": "code",
   "execution_count": null,
   "metadata": {},
   "outputs": [],
   "source": []
  }
 ],
 "metadata": {
  "kernelspec": {
   "display_name": "Python 3",
   "language": "python",
   "name": "python3"
  },
  "language_info": {
   "codemirror_mode": {
    "name": "ipython",
    "version": 3
   },
   "file_extension": ".py",
   "mimetype": "text/x-python",
   "name": "python",
   "nbconvert_exporter": "python",
   "pygments_lexer": "ipython3",
   "version": "3.7.5"
  }
 },
 "nbformat": 4,
 "nbformat_minor": 2
}
