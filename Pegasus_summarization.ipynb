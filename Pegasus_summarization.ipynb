{
 "cells": [
  {
   "cell_type": "code",
   "execution_count": 1,
   "metadata": {},
   "outputs": [],
   "source": [
    "import torch\n",
    "import sentencepiece"
   ]
  },
  {
   "cell_type": "code",
   "execution_count": 2,
   "metadata": {},
   "outputs": [
    {
     "data": {
      "text/plain": [
       "200"
      ]
     },
     "execution_count": 2,
     "metadata": {},
     "output_type": "execute_result"
    }
   ],
   "source": [
    "import gc\n",
    "gc.collect()"
   ]
  },
  {
   "cell_type": "code",
   "execution_count": 3,
   "metadata": {},
   "outputs": [],
   "source": [
    "src_text = [ \n",
    "\"\"\"\n",
    "Moscow: President Vladimir Putin on Tuesday called for a joint effort by the BRICS countries on the development of the coronavirus vaccines as he suggested that Russia's Sputnik V vaccine against COVID-19 could be produced in China and India, which are members of the five-nation bloc.\n",
    "\"We believe it is important to speed up the establishment of the centre for development and research of BRICS vaccines, which we agreed to do two years ago, upon the initiative of our South African friends,\" Mr Putin said while addressing the 12th BRICS summit via videoconferencing.\n",
    "\n",
    "The summit, hosted by President Putin, was attended by Prime Minister Narendra Modi, Chinese President Xi Jinping, Brazilian President Jair Bolsonaro and South African President Cyril Ramaphosa.\n",
    "\n",
    "Mr Putin said that Russia's Sputnik V vaccine that was registered in August could be produced in China and India, both members of the BRICS, Sputniknews reported.\n",
    "\n",
    "\"The Russian Direct Investment Fund has reached agreements with its Brazilian and Indian partners on conducting clinical trials of the Sputnik V vaccine, it has also reached an agreement with pharmaceutical companies in China and India to launch production of the vaccine in these countries not just to cover their needs, but for third countries as well,\" Mr Putin said.\n",
    "\n",
    "On August 11, Russia became the world's first country to register a coronavirus vaccine, dubbed Sputnik V. The vaccine was developed by the Gamaleya Research Institute, while the Russian Direct Investment Fund (RDIF) is investing in the production and promotion of the vaccine abroad. Another Russian vaccine, EpiCoronaVac, produced by Vector Research Centre, was registered in October.\n",
    "\n",
    "President Putin at the time said that the Sputnik V works \"quite effectively\" and forms a \"stable immunity\" against the deadly disease. He had disclosed that one of his daughters had tested a Russian COVID-19 vaccine on herself and that she is feeling well.\n",
    "\n",
    "Sputnik V vaccine has shown 92 per cent efficacy in preventing COVID-19, according to interim trial results announced by the country's health ministry last week.\n",
    "\n",
    "The vaccine has been named Sputnik-V. The name is a reference to the surprise 1957 launch of the world's first satellite by the Soviet Union.\n",
    "\n",
    "The 12th BRICS summit was originally scheduled to be held in Saint Petersburg in July but had to be postponed due to the outbreak of the global COVID-19 pandemic.\n",
    "\n",
    "So far the coronavirus has infected more than 54 million people around the world and killed more than 1.3 million people even as governments implemented strict lockdowns and restrictions to slow the spread of the virus that originated in the Chinese city of Wuhan.\n",
    "\n",
    "\"\"\"\n",
    "]"
   ]
  },
  {
   "cell_type": "code",
   "execution_count": 4,
   "metadata": {},
   "outputs": [],
   "source": [
    "from transformers import PegasusForConditionalGeneration, PegasusTokenizer\n",
    "model_name = 'google/pegasus-reddit_tifu'\n",
    "torch_device = 'cpu'"
   ]
  },
  {
   "cell_type": "code",
   "execution_count": 5,
   "metadata": {},
   "outputs": [
    {
     "data": {
      "application/vnd.jupyter.widget-view+json": {
       "model_id": "791d334788ab4d20a970a34389db6dfe",
       "version_major": 2,
       "version_minor": 0
      },
      "text/plain": [
       "HBox(children=(FloatProgress(value=0.0, description='Downloading', max=1912529.0, style=ProgressStyle(descript…"
      ]
     },
     "metadata": {},
     "output_type": "display_data"
    },
    {
     "name": "stdout",
     "output_type": "stream",
     "text": [
      "\n"
     ]
    },
    {
     "data": {
      "application/vnd.jupyter.widget-view+json": {
       "model_id": "c0cbfda210ac436fa0f510bf77d27681",
       "version_major": 2,
       "version_minor": 0
      },
      "text/plain": [
       "HBox(children=(FloatProgress(value=0.0, description='Downloading', max=65.0, style=ProgressStyle(description_w…"
      ]
     },
     "metadata": {},
     "output_type": "display_data"
    },
    {
     "name": "stdout",
     "output_type": "stream",
     "text": [
      "\n"
     ]
    },
    {
     "data": {
      "application/vnd.jupyter.widget-view+json": {
       "model_id": "5fdc2b82efd9473fa013ae8baa4afd86",
       "version_major": 2,
       "version_minor": 0
      },
      "text/plain": [
       "HBox(children=(FloatProgress(value=0.0, description='Downloading', max=87.0, style=ProgressStyle(description_w…"
      ]
     },
     "metadata": {},
     "output_type": "display_data"
    },
    {
     "name": "stdout",
     "output_type": "stream",
     "text": [
      "\n"
     ]
    }
   ],
   "source": [
    "tokenizer = PegasusTokenizer.from_pretrained(model_name)"
   ]
  },
  {
   "cell_type": "code",
   "execution_count": 6,
   "metadata": {},
   "outputs": [
    {
     "data": {
      "application/vnd.jupyter.widget-view+json": {
       "model_id": "9cbca17e493542b098df9e3e6a1c6e8a",
       "version_major": 2,
       "version_minor": 0
      },
      "text/plain": [
       "HBox(children=(FloatProgress(value=0.0, description='Downloading', max=1119.0, style=ProgressStyle(description…"
      ]
     },
     "metadata": {},
     "output_type": "display_data"
    },
    {
     "name": "stdout",
     "output_type": "stream",
     "text": [
      "\n"
     ]
    },
    {
     "data": {
      "application/vnd.jupyter.widget-view+json": {
       "model_id": "6b0941f5bc11457d96784889e623eed7",
       "version_major": 2,
       "version_minor": 0
      },
      "text/plain": [
       "HBox(children=(FloatProgress(value=0.0, description='Downloading', max=2275329241.0, style=ProgressStyle(descr…"
      ]
     },
     "metadata": {},
     "output_type": "display_data"
    },
    {
     "name": "stdout",
     "output_type": "stream",
     "text": [
      "\n"
     ]
    }
   ],
   "source": [
    "model = PegasusForConditionalGeneration.from_pretrained(model_name).to(torch_device)"
   ]
  },
  {
   "cell_type": "code",
   "execution_count": 7,
   "metadata": {},
   "outputs": [],
   "source": [
    "batch = tokenizer.prepare_seq2seq_batch(src_text, truncation=True, padding='longest').to(torch_device)\n",
    "translated = model.generate(**batch)\n",
    "tgt_text = tokenizer.batch_decode(translated, skip_special_tokens=True)"
   ]
  },
  {
   "cell_type": "code",
   "execution_count": 8,
   "metadata": {},
   "outputs": [
    {
     "data": {
      "text/plain": [
       "\"Moscow: President Vladimir Putin on Tuesday called for a joint effort by the BRICS countries on the development of the coronavirus vaccines as he suggested that Russia's Sputnik V vaccine against COVID-19 could be produced in China and India, which are members of the five-nation bloc.\""
      ]
     },
     "execution_count": 8,
     "metadata": {},
     "output_type": "execute_result"
    }
   ],
   "source": [
    "tgt_text[0]"
   ]
  },
  {
   "cell_type": "code",
   "execution_count": null,
   "metadata": {},
   "outputs": [],
   "source": []
  }
 ],
 "metadata": {
  "kernelspec": {
   "display_name": "Python 3",
   "language": "python",
   "name": "python3"
  },
  "language_info": {
   "codemirror_mode": {
    "name": "ipython",
    "version": 3
   },
   "file_extension": ".py",
   "mimetype": "text/x-python",
   "name": "python",
   "nbconvert_exporter": "python",
   "pygments_lexer": "ipython3",
   "version": "3.8.3"
  }
 },
 "nbformat": 4,
 "nbformat_minor": 4
}
